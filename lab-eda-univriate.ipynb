{
 "cells": [
  {
   "cell_type": "code",
   "execution_count": 7,
   "id": "a98055e9",
   "metadata": {},
   "outputs": [],
   "source": [
    "import pandas as pd\n",
    "import matplotlib.pyplot as plt\n",
    "import seaborn as sns\n",
    "import numpy as np\n"
   ]
  },
  {
   "cell_type": "code",
   "execution_count": 8,
   "id": "fd73e84e",
   "metadata": {},
   "outputs": [
    {
     "data": {
      "text/html": [
       "<div>\n",
       "<style scoped>\n",
       "    .dataframe tbody tr th:only-of-type {\n",
       "        vertical-align: middle;\n",
       "    }\n",
       "\n",
       "    .dataframe tbody tr th {\n",
       "        vertical-align: top;\n",
       "    }\n",
       "\n",
       "    .dataframe thead th {\n",
       "        text-align: right;\n",
       "    }\n",
       "</style>\n",
       "<table border=\"1\" class=\"dataframe\">\n",
       "  <thead>\n",
       "    <tr style=\"text-align: right;\">\n",
       "      <th></th>\n",
       "      <th>uid</th>\n",
       "      <th>asin</th>\n",
       "      <th>title</th>\n",
       "      <th>stars</th>\n",
       "      <th>reviews</th>\n",
       "      <th>price</th>\n",
       "      <th>isBestSeller</th>\n",
       "      <th>boughtInLastMonth</th>\n",
       "      <th>category</th>\n",
       "    </tr>\n",
       "  </thead>\n",
       "  <tbody>\n",
       "    <tr>\n",
       "      <th>0</th>\n",
       "      <td>1</td>\n",
       "      <td>B09B96TG33</td>\n",
       "      <td>Echo Dot (5th generation, 2022 release) | Big ...</td>\n",
       "      <td>4.7</td>\n",
       "      <td>15308</td>\n",
       "      <td>21.99</td>\n",
       "      <td>False</td>\n",
       "      <td>0</td>\n",
       "      <td>Hi-Fi Speakers</td>\n",
       "    </tr>\n",
       "    <tr>\n",
       "      <th>1</th>\n",
       "      <td>2</td>\n",
       "      <td>B01HTH3C8S</td>\n",
       "      <td>Anker Soundcore mini, Super-Portable Bluetooth...</td>\n",
       "      <td>4.7</td>\n",
       "      <td>98099</td>\n",
       "      <td>23.99</td>\n",
       "      <td>True</td>\n",
       "      <td>0</td>\n",
       "      <td>Hi-Fi Speakers</td>\n",
       "    </tr>\n",
       "    <tr>\n",
       "      <th>2</th>\n",
       "      <td>3</td>\n",
       "      <td>B09B8YWXDF</td>\n",
       "      <td>Echo Dot (5th generation, 2022 release) | Big ...</td>\n",
       "      <td>4.7</td>\n",
       "      <td>15308</td>\n",
       "      <td>21.99</td>\n",
       "      <td>False</td>\n",
       "      <td>0</td>\n",
       "      <td>Hi-Fi Speakers</td>\n",
       "    </tr>\n",
       "    <tr>\n",
       "      <th>3</th>\n",
       "      <td>4</td>\n",
       "      <td>B09B8T5VGV</td>\n",
       "      <td>Echo Dot with clock (5th generation, 2022 rele...</td>\n",
       "      <td>4.7</td>\n",
       "      <td>7205</td>\n",
       "      <td>31.99</td>\n",
       "      <td>False</td>\n",
       "      <td>0</td>\n",
       "      <td>Hi-Fi Speakers</td>\n",
       "    </tr>\n",
       "    <tr>\n",
       "      <th>4</th>\n",
       "      <td>5</td>\n",
       "      <td>B09WX6QD65</td>\n",
       "      <td>Introducing Echo Pop | Full sound compact Wi-F...</td>\n",
       "      <td>4.6</td>\n",
       "      <td>1881</td>\n",
       "      <td>17.99</td>\n",
       "      <td>False</td>\n",
       "      <td>0</td>\n",
       "      <td>Hi-Fi Speakers</td>\n",
       "    </tr>\n",
       "  </tbody>\n",
       "</table>\n",
       "</div>"
      ],
      "text/plain": [
       "   uid        asin                                              title  stars  \\\n",
       "0    1  B09B96TG33  Echo Dot (5th generation, 2022 release) | Big ...    4.7   \n",
       "1    2  B01HTH3C8S  Anker Soundcore mini, Super-Portable Bluetooth...    4.7   \n",
       "2    3  B09B8YWXDF  Echo Dot (5th generation, 2022 release) | Big ...    4.7   \n",
       "3    4  B09B8T5VGV  Echo Dot with clock (5th generation, 2022 rele...    4.7   \n",
       "4    5  B09WX6QD65  Introducing Echo Pop | Full sound compact Wi-F...    4.6   \n",
       "\n",
       "   reviews  price  isBestSeller  boughtInLastMonth        category  \n",
       "0    15308  21.99         False                  0  Hi-Fi Speakers  \n",
       "1    98099  23.99          True                  0  Hi-Fi Speakers  \n",
       "2    15308  21.99         False                  0  Hi-Fi Speakers  \n",
       "3     7205  31.99         False                  0  Hi-Fi Speakers  \n",
       "4     1881  17.99         False                  0  Hi-Fi Speakers  "
      ]
     },
     "metadata": {},
     "output_type": "display_data"
    },
    {
     "name": "stdout",
     "output_type": "stream",
     "text": [
      "(2443651, 9)\n"
     ]
    }
   ],
   "source": [
    "# Loading the housing price dataset (assuming the file name is \"housing_price.csv\")\n",
    "url = 'amz_uk_price_prediction_dataset.csv'\n",
    "df = pd.read_csv(url)\n",
    "\n",
    "#Cuando quiero un df, hay que poner display y si solamente quiero imprimir; print\n",
    "display(df.head())  \n",
    "print(df.shape)"
   ]
  },
  {
   "cell_type": "code",
   "execution_count": 9,
   "id": "c1cc7ebc",
   "metadata": {},
   "outputs": [
    {
     "data": {
      "text/plain": [
       "Sports & Outdoors                         836265\n",
       "Beauty                                     19312\n",
       "Handmade Clothing, Shoes & Accessories     19229\n",
       "Bath & Body                                19092\n",
       "Birthday Gifts                             18978\n",
       "                                           ...  \n",
       "Plugs                                        107\n",
       "Alexa Built-In Devices                       107\n",
       "Motorbike Chassis                            107\n",
       "Smart Home Security & Lighting               104\n",
       "Smart Speakers                                54\n",
       "Name: category, Length: 296, dtype: int64"
      ]
     },
     "execution_count": 9,
     "metadata": {},
     "output_type": "execute_result"
    }
   ],
   "source": [
    "#### Part 1: Understanding Product Categories\n",
    "#- Generate a frequency table for the product `category`.\n",
    "frequency_table = df['category'].value_counts()\n",
    "frequency_table\n"
   ]
  },
  {
   "cell_type": "code",
   "execution_count": 10,
   "id": "66bebab5",
   "metadata": {},
   "outputs": [
    {
     "data": {
      "text/plain": [
       "Sports & Outdoors                         836265\n",
       "Beauty                                     19312\n",
       "Handmade Clothing, Shoes & Accessories     19229\n",
       "Bath & Body                                19092\n",
       "Birthday Gifts                             18978\n",
       "Name: category, dtype: int64"
      ]
     },
     "execution_count": 10,
     "metadata": {},
     "output_type": "execute_result"
    }
   ],
   "source": [
    "# - Which are the top 5 most listed product categories?\n",
    "frequency_table_top5 = df['category'].value_counts().head(5)\n",
    "frequency_table_top5"
   ]
  },
  {
   "cell_type": "code",
   "execution_count": 11,
   "id": "022e5fcd",
   "metadata": {},
   "outputs": [],
   "source": [
    "#sns.barplot(y=frequency_table_top5.index, x=frequency_table_top5.values, hue=frequency_table_top5.index)\n",
    "#Gráfica con los número tal cual me los da la tabla, en la siguiente\n",
    "#axes son los ejes del x"
   ]
  },
  {
   "cell_type": "code",
   "execution_count": 12,
   "id": "0ffd7637",
   "metadata": {},
   "outputs": [
    {
     "data": {
      "text/plain": [
       "[]"
      ]
     },
     "execution_count": 12,
     "metadata": {},
     "output_type": "execute_result"
    },
    {
     "data": {
      "image/png": "[encoded data removed]",
      "text/plain": [
       "<Figure size 432x288 with 1 Axes>"
      ]
     },
     "metadata": {
      "needs_background": "light"
     },
     "output_type": "display_data"
    }
   ],
   "source": [
    "#2. Visualizations\n",
    "# Display the distribution of products across different categories using a bar chart.\n",
    "#sns.countplot()\n",
    "fig, axes = plt.subplots()\n",
    "sns.barplot(y=frequency_table_top5.index, x=frequency_table_top5.values, hue=frequency_table_top5.index, ax=axes)\n",
    "axes.semilogx()\n",
    "\n",
    "\n",
    "#sns.move_legend(ax, \"lower right\")"
   ]
  },
  {
   "cell_type": "code",
   "execution_count": 13,
   "id": "f07ab1a4",
   "metadata": {},
   "outputs": [
    {
     "name": "stdout",
     "output_type": "stream",
     "text": [
      "Mean:89.24380943985244\n",
      "Median: 19.09\n",
      "Mode: 0    9.99\n",
      "dtype: float64\n"
     ]
    }
   ],
   "source": [
    "\n",
    "### Part 2: Delving into Product Pricing\n",
    "#1. **Measures of Centrality**:\n",
    "#Calculate the mean, median, and mode for the `price` of products.\n",
    "mean_price = df['price'].mean()\n",
    "median_price = df['price'].median()\n",
    "mode_price = df['price'].mode()\n",
    "\n",
    "print(f\"Mean:{mean_price}\")\n",
    "print(f\"Median: {median_price}\")\n",
    "print(f\"Mode: {mode_price}\")\n"
   ]
  },
  {
   "cell_type": "code",
   "execution_count": 14,
   "id": "d0b81f1e",
   "metadata": {},
   "outputs": [
    {
     "name": "stdout",
     "output_type": "stream",
     "text": [
      "range price: 0    79.253809\n",
      "dtype: float64\n"
     ]
    }
   ],
   "source": [
    "#- What's the average price point of products listed? How does this compare with the most common price point (mode)?\n",
    "#min_price = df['price'].min()\n",
    "#max_price = df['price'].max()\n",
    "diference_mean_mode = mean_price - mode_price\n",
    "print(f\"range price: {diference_mean_mode}\")"
   ]
  },
  {
   "cell_type": "code",
   "execution_count": null,
   "id": "9e6defca",
   "metadata": {},
   "outputs": [
    {
     "name": "stdout",
     "output_type": "stream",
     "text": [
      "variance: 119445.48532256528\n",
      "std_dev_price: 345.60886175352226\n",
      "min: 0.0\n",
      "max: 100000.0\n",
      "range price: 100000.0\n"
     ]
    }
   ],
   "source": [
    "#2.**Measures of Dispersion**:\n",
    "#- Determine the variance, standard deviation, range, and interquartile range for product `price`.\n",
    "variance_price = df['price'].var()\n",
    "std_dev_price = df['price'].std()\n",
    "min_price = df['price'].min()\n",
    "max_price = df['price'].max()\n",
    "range_price = max_price - min_price\n",
    "print(f\"variance: {variance_price}\")\n",
    "print(f\"std_dev_price: {std_dev_price}\")\n",
    "print(f\"min: {min_price}\")\n",
    "print(f\"max: {max_price}\")\n",
    "print(f\"range price: {range_price}\")\n",
    "\n",
    "#- How varied are the product prices? Are there any indicators of a significant spread in prices?\n",
    "#yes, there is a significant spread. Standard deviation and range "
   ]
  },
  {
   "cell_type": "code",
   "execution_count": 24,
   "id": "9e1df562",
   "metadata": {},
   "outputs": [
    {
     "name": "stdout",
     "output_type": "stream",
     "text": [
      "Mean:480.6277569914853\n",
      "Median: 0.0\n",
      "Mode: 0    0\n",
      "dtype: int64\n"
     ]
    }
   ],
   "source": [
    "\n",
    "### Part 3: Unpacking Product Ratings\n",
    "#1. **Measures of Centrality**:\n",
    "mean_rating = df['reviews'].mean()\n",
    "median_rating = df['reviews'].median()\n",
    "mode_rating = df['reviews'].mode()\n",
    "\n",
    "print(f\"Mean:{mean_rating}\")\n",
    "print(f\"Median: {median_rating}\")\n",
    "print(f\"Mode: {mode_rating}\")\n",
    "\n"
   ]
  },
  {
   "cell_type": "code",
   "execution_count": 25,
   "id": "e36e778b",
   "metadata": {},
   "outputs": [
    {
     "name": "stdout",
     "output_type": "stream",
     "text": [
      "variance: 35332611.92181505\n",
      "std_dev_rating: 5944.124150942261\n",
      "min: 0\n",
      "max: 1356658\n",
      "range rating: 1356658\n"
     ]
    }
   ],
   "source": [
    "#2. **Measures of Dispersion**:\n",
    "variance_rating = df['reviews'].var()\n",
    "std_dev_rating= df['reviews'].std()\n",
    "min_rating = df['reviews'].min()\n",
    "max_rating = df['reviews'].max()\n",
    "range_rating = max_rating - min_rating\n",
    "print(f\"variance: {variance_rating}\")\n",
    "print(f\"std_dev_rating: {std_dev_rating}\")\n",
    "print(f\"min: {min_rating}\")\n",
    "print(f\"max: {max_rating}\")\n",
    "print(f\"range rating: {range_rating}\")\n"
   ]
  },
  {
   "cell_type": "code",
   "execution_count": 27,
   "id": "ad511fbb",
   "metadata": {},
   "outputs": [
    {
     "data": {
      "text/plain": [
       "(102.81782179557166, 17741.01460473757)"
      ]
     },
     "execution_count": 27,
     "metadata": {},
     "output_type": "execute_result"
    }
   ],
   "source": [
    "#3. **Shape of the Distribution**:\n",
    "skewness_rating = df['reviews'].skew()\n",
    "kurtosis_rating = df['reviews'].kurtosis()\n",
    "\n",
    "skewness_rating, kurtosis_rating"
   ]
  },
  {
   "cell_type": "code",
   "execution_count": null,
   "id": "6ad1d272",
   "metadata": {},
   "outputs": [
    {
     "data": {
      "image/png": "[encoded data removed]",
      "text/plain": [
       "<Figure size 432x288 with 1 Axes>"
      ]
     },
     "metadata": {
      "needs_background": "light"
     },
     "output_type": "display_data"
    }
   ],
   "source": [
    "#4. **Visualizations**:\n",
    "fig, axes = plt.subplots()\n",
    "sns.histplot(df['reviews'], kde=True, bins=30, color=\"salmon\", ax=axes);\n",
    "plt.show()"
   ]
  }
 ],
 "metadata": {
  "kernelspec": {
   "display_name": "base",
   "language": "python",
   "name": "python3"
  },
  "language_info": {
   "codemirror_mode": {
    "name": "ipython",
    "version": 3
   },
   "file_extension": ".py",
   "mimetype": "text/x-python",
   "name": "python",
   "nbconvert_exporter": "python",
   "pygments_lexer": "ipython3",
   "version": "3.8.5"
  }
 },
 "nbformat": 4,
 "nbformat_minor": 5
}
